{
 "cells": [
  {
   "cell_type": "code",
   "execution_count": 21,
   "metadata": {},
   "outputs": [
    {
     "name": "stdout",
     "output_type": "stream",
     "text": [
      "Melhor Media é: 17\n"
     ]
    }
   ],
   "source": [
    "import random\n",
    "\n",
    "cont2=0\n",
    "cont3=0\n",
    "cont4=0\n",
    "cont5=0\n",
    "cont10=0\n",
    "cont11=0\n",
    "cont12=0\n",
    "aleatorios=[]\n",
    "final=[]\n",
    "sequencias_real=[]\n",
    "medias=[]\n",
    "medias_real=[]\n",
    "melhores=[]\n",
    "resultado=[]\n",
    "cincoMelhores=[]\n",
    "\n",
    "def random1(aleatorios):\n",
    "  x = aleatorios[0]\n",
    "  y = aleatorios[1]\n",
    "  z = aleatorios[2]\n",
    "  primeira = 3*x + 2*y + 4*z\n",
    "  segunda = x + y + 2*z\n",
    "  terceira = 4*x + 3*y - 2*z\n",
    "  rsp1 = 1\n",
    "  rsp2 = 2\n",
    "  rsp3 = 3\n",
    "  r = ''\n",
    "  resul1 = int((abs(rsp1-(primeira))/rsp1)*100)\n",
    "  resul2 = int((abs(rsp2-(segunda))/rsp2)*100)\n",
    "  resul3 = int((abs(rsp3-(terceira))/rsp3)*100)\n",
    "  r = [resul1,resul2,resul3]\n",
    "  media = (resul1+resul2+resul3)/3\n",
    "  return int(media)\n",
    "    \n",
    "\n",
    "while(cont12<5):\n",
    "  while(cont11<1000):\n",
    "    while(cont5<50):\n",
    "      while(cont2<3):\n",
    "        aleatorios.append(str(random.uniform(-10, 10)))\n",
    "        cont2+=1\n",
    "      \n",
    "      cont3=0\n",
    "      for num in aleatorios:\n",
    "        aleatorios[cont3]=float((num[:num.find('.')+2]))\n",
    "        cont3+=1\n",
    "      cont2=0\n",
    "\n",
    "      medias.append(random1(aleatorios))\n",
    "      final.append(aleatorios)\n",
    "      aleatorios=[]\n",
    "      cont5+=1\n",
    "\n",
    "    while(cont10<25):\n",
    "      index=medias.index(max(medias))\n",
    "      medias.pop(index)\n",
    "      final.pop(index)\n",
    "      cont10+=1\n",
    "        \n",
    "    medias_real+=medias\n",
    "    sequencias_real.append(final)\n",
    "    melhores.append(min(medias_real))\n",
    "    final = []\n",
    "    medias =[]\n",
    "    cont10=0\n",
    "    if(cont5==50):\n",
    "      cont5=0\n",
    "    cont11+=1\n",
    "  resultado=resultado+melhores\n",
    "  cont12+=1\n",
    "    \n",
    "cont5=0\n",
    "while(cont5<5):    \n",
    "    index=resultado.index(min(resultado))\n",
    "    cincoMelhores.append(resultado[index])\n",
    "    resultado.pop(index)\n",
    "    cont5+=1\n",
    "    \n",
    "mn,idx = min( (medias_real[i],i) for i in range(len(medias_real)))\n",
    "print(\"Melhor Media é:\",mn)\n"
   ]
  },
  {
   "cell_type": "code",
   "execution_count": null,
   "metadata": {},
   "outputs": [],
   "source": []
  },
  {
   "cell_type": "code",
   "execution_count": null,
   "metadata": {},
   "outputs": [],
   "source": []
  }
 ],
 "metadata": {
  "kernelspec": {
   "display_name": "Python 3",
   "language": "python",
   "name": "python3"
  },
  "language_info": {
   "codemirror_mode": {
    "name": "ipython",
    "version": 3
   },
   "file_extension": ".py",
   "mimetype": "text/x-python",
   "name": "python",
   "nbconvert_exporter": "python",
   "pygments_lexer": "ipython3",
   "version": "3.6.5"
  }
 },
 "nbformat": 4,
 "nbformat_minor": 2
}
